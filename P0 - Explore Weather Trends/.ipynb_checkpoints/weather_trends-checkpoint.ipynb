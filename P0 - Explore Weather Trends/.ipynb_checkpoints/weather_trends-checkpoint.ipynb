{
 "cells": [
  {
   "cell_type": "code",
   "execution_count": 225,
   "metadata": {},
   "outputs": [],
   "source": [
    "import pandas as pd\n",
    "import numpy as np\n",
    "import matplotlib.pyplot as plt\n",
    "%matplotlib inline\n",
    "\n",
    "city_temp = pd.read_csv('city_data.csv')\n",
    "city_list = pd.read_csv('city_list.csv')\n",
    "global_temp = pd.read_csv('global_data.csv')"
   ]
  },
  {
   "cell_type": "code",
   "execution_count": 226,
   "metadata": {},
   "outputs": [
    {
     "data": {
      "text/html": [
       "<div>\n",
       "<style scoped>\n",
       "    .dataframe tbody tr th:only-of-type {\n",
       "        vertical-align: middle;\n",
       "    }\n",
       "\n",
       "    .dataframe tbody tr th {\n",
       "        vertical-align: top;\n",
       "    }\n",
       "\n",
       "    .dataframe thead th {\n",
       "        text-align: right;\n",
       "    }\n",
       "</style>\n",
       "<table border=\"1\" class=\"dataframe\">\n",
       "  <thead>\n",
       "    <tr style=\"text-align: right;\">\n",
       "      <th></th>\n",
       "      <th>year</th>\n",
       "      <th>city</th>\n",
       "      <th>country</th>\n",
       "      <th>avg_temp</th>\n",
       "    </tr>\n",
       "  </thead>\n",
       "  <tbody>\n",
       "    <tr>\n",
       "      <td>0</td>\n",
       "      <td>1849</td>\n",
       "      <td>Abidjan</td>\n",
       "      <td>Côte D'Ivoire</td>\n",
       "      <td>25.58</td>\n",
       "    </tr>\n",
       "    <tr>\n",
       "      <td>1</td>\n",
       "      <td>1850</td>\n",
       "      <td>Abidjan</td>\n",
       "      <td>Côte D'Ivoire</td>\n",
       "      <td>25.52</td>\n",
       "    </tr>\n",
       "    <tr>\n",
       "      <td>2</td>\n",
       "      <td>1851</td>\n",
       "      <td>Abidjan</td>\n",
       "      <td>Côte D'Ivoire</td>\n",
       "      <td>25.67</td>\n",
       "    </tr>\n",
       "    <tr>\n",
       "      <td>3</td>\n",
       "      <td>1852</td>\n",
       "      <td>Abidjan</td>\n",
       "      <td>Côte D'Ivoire</td>\n",
       "      <td>NaN</td>\n",
       "    </tr>\n",
       "    <tr>\n",
       "      <td>4</td>\n",
       "      <td>1853</td>\n",
       "      <td>Abidjan</td>\n",
       "      <td>Côte D'Ivoire</td>\n",
       "      <td>NaN</td>\n",
       "    </tr>\n",
       "    <tr>\n",
       "      <td>5</td>\n",
       "      <td>1854</td>\n",
       "      <td>Abidjan</td>\n",
       "      <td>Côte D'Ivoire</td>\n",
       "      <td>NaN</td>\n",
       "    </tr>\n",
       "    <tr>\n",
       "      <td>6</td>\n",
       "      <td>1855</td>\n",
       "      <td>Abidjan</td>\n",
       "      <td>Côte D'Ivoire</td>\n",
       "      <td>NaN</td>\n",
       "    </tr>\n",
       "    <tr>\n",
       "      <td>7</td>\n",
       "      <td>1856</td>\n",
       "      <td>Abidjan</td>\n",
       "      <td>Côte D'Ivoire</td>\n",
       "      <td>26.28</td>\n",
       "    </tr>\n",
       "    <tr>\n",
       "      <td>8</td>\n",
       "      <td>1857</td>\n",
       "      <td>Abidjan</td>\n",
       "      <td>Côte D'Ivoire</td>\n",
       "      <td>25.17</td>\n",
       "    </tr>\n",
       "    <tr>\n",
       "      <td>9</td>\n",
       "      <td>1858</td>\n",
       "      <td>Abidjan</td>\n",
       "      <td>Côte D'Ivoire</td>\n",
       "      <td>25.49</td>\n",
       "    </tr>\n",
       "  </tbody>\n",
       "</table>\n",
       "</div>"
      ],
      "text/plain": [
       "   year     city        country  avg_temp\n",
       "0  1849  Abidjan  Côte D'Ivoire     25.58\n",
       "1  1850  Abidjan  Côte D'Ivoire     25.52\n",
       "2  1851  Abidjan  Côte D'Ivoire     25.67\n",
       "3  1852  Abidjan  Côte D'Ivoire       NaN\n",
       "4  1853  Abidjan  Côte D'Ivoire       NaN\n",
       "5  1854  Abidjan  Côte D'Ivoire       NaN\n",
       "6  1855  Abidjan  Côte D'Ivoire       NaN\n",
       "7  1856  Abidjan  Côte D'Ivoire     26.28\n",
       "8  1857  Abidjan  Côte D'Ivoire     25.17\n",
       "9  1858  Abidjan  Côte D'Ivoire     25.49"
      ]
     },
     "execution_count": 226,
     "metadata": {},
     "output_type": "execute_result"
    }
   ],
   "source": [
    "city_temp.head(10)"
   ]
  },
  {
   "cell_type": "code",
   "execution_count": 227,
   "metadata": {},
   "outputs": [
    {
     "data": {
      "text/plain": [
       "(71311, 4)"
      ]
     },
     "execution_count": 227,
     "metadata": {},
     "output_type": "execute_result"
    }
   ],
   "source": [
    "city_temp.shape"
   ]
  },
  {
   "cell_type": "code",
   "execution_count": 228,
   "metadata": {},
   "outputs": [
    {
     "data": {
      "text/html": [
       "<div>\n",
       "<style scoped>\n",
       "    .dataframe tbody tr th:only-of-type {\n",
       "        vertical-align: middle;\n",
       "    }\n",
       "\n",
       "    .dataframe tbody tr th {\n",
       "        vertical-align: top;\n",
       "    }\n",
       "\n",
       "    .dataframe thead th {\n",
       "        text-align: right;\n",
       "    }\n",
       "</style>\n",
       "<table border=\"1\" class=\"dataframe\">\n",
       "  <thead>\n",
       "    <tr style=\"text-align: right;\">\n",
       "      <th></th>\n",
       "      <th>year</th>\n",
       "      <th>avg_temp</th>\n",
       "    </tr>\n",
       "  </thead>\n",
       "  <tbody>\n",
       "    <tr>\n",
       "      <td>count</td>\n",
       "      <td>71311.000000</td>\n",
       "      <td>68764.000000</td>\n",
       "    </tr>\n",
       "    <tr>\n",
       "      <td>mean</td>\n",
       "      <td>1905.799007</td>\n",
       "      <td>16.183876</td>\n",
       "    </tr>\n",
       "    <tr>\n",
       "      <td>std</td>\n",
       "      <td>67.102099</td>\n",
       "      <td>7.592960</td>\n",
       "    </tr>\n",
       "    <tr>\n",
       "      <td>min</td>\n",
       "      <td>1743.000000</td>\n",
       "      <td>-14.350000</td>\n",
       "    </tr>\n",
       "    <tr>\n",
       "      <td>25%</td>\n",
       "      <td>1858.000000</td>\n",
       "      <td>9.750000</td>\n",
       "    </tr>\n",
       "    <tr>\n",
       "      <td>50%</td>\n",
       "      <td>1910.000000</td>\n",
       "      <td>16.140000</td>\n",
       "    </tr>\n",
       "    <tr>\n",
       "      <td>75%</td>\n",
       "      <td>1962.000000</td>\n",
       "      <td>23.762500</td>\n",
       "    </tr>\n",
       "    <tr>\n",
       "      <td>max</td>\n",
       "      <td>2013.000000</td>\n",
       "      <td>30.730000</td>\n",
       "    </tr>\n",
       "  </tbody>\n",
       "</table>\n",
       "</div>"
      ],
      "text/plain": [
       "               year      avg_temp\n",
       "count  71311.000000  68764.000000\n",
       "mean    1905.799007     16.183876\n",
       "std       67.102099      7.592960\n",
       "min     1743.000000    -14.350000\n",
       "25%     1858.000000      9.750000\n",
       "50%     1910.000000     16.140000\n",
       "75%     1962.000000     23.762500\n",
       "max     2013.000000     30.730000"
      ]
     },
     "execution_count": 228,
     "metadata": {},
     "output_type": "execute_result"
    }
   ],
   "source": [
    "city_temp.describe()"
   ]
  },
  {
   "cell_type": "code",
   "execution_count": 229,
   "metadata": {},
   "outputs": [
    {
     "data": {
      "text/plain": [
       "year           0\n",
       "city           0\n",
       "country        0\n",
       "avg_temp    2547\n",
       "dtype: int64"
      ]
     },
     "execution_count": 229,
     "metadata": {},
     "output_type": "execute_result"
    }
   ],
   "source": [
    "city_temp.isnull().sum()"
   ]
  },
  {
   "cell_type": "code",
   "execution_count": 230,
   "metadata": {},
   "outputs": [
    {
     "data": {
      "text/html": [
       "<div>\n",
       "<style scoped>\n",
       "    .dataframe tbody tr th:only-of-type {\n",
       "        vertical-align: middle;\n",
       "    }\n",
       "\n",
       "    .dataframe tbody tr th {\n",
       "        vertical-align: top;\n",
       "    }\n",
       "\n",
       "    .dataframe thead th {\n",
       "        text-align: right;\n",
       "    }\n",
       "</style>\n",
       "<table border=\"1\" class=\"dataframe\">\n",
       "  <thead>\n",
       "    <tr style=\"text-align: right;\">\n",
       "      <th></th>\n",
       "      <th>year</th>\n",
       "      <th>city</th>\n",
       "      <th>country</th>\n",
       "      <th>avg_temp</th>\n",
       "    </tr>\n",
       "  </thead>\n",
       "  <tbody>\n",
       "    <tr>\n",
       "      <td>3</td>\n",
       "      <td>1852</td>\n",
       "      <td>Abidjan</td>\n",
       "      <td>Côte D'Ivoire</td>\n",
       "      <td>NaN</td>\n",
       "    </tr>\n",
       "    <tr>\n",
       "      <td>4</td>\n",
       "      <td>1853</td>\n",
       "      <td>Abidjan</td>\n",
       "      <td>Côte D'Ivoire</td>\n",
       "      <td>NaN</td>\n",
       "    </tr>\n",
       "    <tr>\n",
       "      <td>5</td>\n",
       "      <td>1854</td>\n",
       "      <td>Abidjan</td>\n",
       "      <td>Côte D'Ivoire</td>\n",
       "      <td>NaN</td>\n",
       "    </tr>\n",
       "    <tr>\n",
       "      <td>6</td>\n",
       "      <td>1855</td>\n",
       "      <td>Abidjan</td>\n",
       "      <td>Côte D'Ivoire</td>\n",
       "      <td>NaN</td>\n",
       "    </tr>\n",
       "    <tr>\n",
       "      <td>14</td>\n",
       "      <td>1863</td>\n",
       "      <td>Abidjan</td>\n",
       "      <td>Côte D'Ivoire</td>\n",
       "      <td>NaN</td>\n",
       "    </tr>\n",
       "    <tr>\n",
       "      <td>...</td>\n",
       "      <td>...</td>\n",
       "      <td>...</td>\n",
       "      <td>...</td>\n",
       "      <td>...</td>\n",
       "    </tr>\n",
       "    <tr>\n",
       "      <td>70870</td>\n",
       "      <td>1749</td>\n",
       "      <td>Zagreb</td>\n",
       "      <td>Croatia</td>\n",
       "      <td>NaN</td>\n",
       "    </tr>\n",
       "    <tr>\n",
       "      <td>71137</td>\n",
       "      <td>1840</td>\n",
       "      <td>Zapopan</td>\n",
       "      <td>Mexico</td>\n",
       "      <td>NaN</td>\n",
       "    </tr>\n",
       "    <tr>\n",
       "      <td>71138</td>\n",
       "      <td>1841</td>\n",
       "      <td>Zapopan</td>\n",
       "      <td>Mexico</td>\n",
       "      <td>NaN</td>\n",
       "    </tr>\n",
       "    <tr>\n",
       "      <td>71139</td>\n",
       "      <td>1842</td>\n",
       "      <td>Zapopan</td>\n",
       "      <td>Mexico</td>\n",
       "      <td>NaN</td>\n",
       "    </tr>\n",
       "    <tr>\n",
       "      <td>71145</td>\n",
       "      <td>1848</td>\n",
       "      <td>Zapopan</td>\n",
       "      <td>Mexico</td>\n",
       "      <td>NaN</td>\n",
       "    </tr>\n",
       "  </tbody>\n",
       "</table>\n",
       "<p>2547 rows × 4 columns</p>\n",
       "</div>"
      ],
      "text/plain": [
       "       year     city        country  avg_temp\n",
       "3      1852  Abidjan  Côte D'Ivoire       NaN\n",
       "4      1853  Abidjan  Côte D'Ivoire       NaN\n",
       "5      1854  Abidjan  Côte D'Ivoire       NaN\n",
       "6      1855  Abidjan  Côte D'Ivoire       NaN\n",
       "14     1863  Abidjan  Côte D'Ivoire       NaN\n",
       "...     ...      ...            ...       ...\n",
       "70870  1749   Zagreb        Croatia       NaN\n",
       "71137  1840  Zapopan         Mexico       NaN\n",
       "71138  1841  Zapopan         Mexico       NaN\n",
       "71139  1842  Zapopan         Mexico       NaN\n",
       "71145  1848  Zapopan         Mexico       NaN\n",
       "\n",
       "[2547 rows x 4 columns]"
      ]
     },
     "execution_count": 230,
     "metadata": {},
     "output_type": "execute_result"
    }
   ],
   "source": [
    "city_temp[city_temp['avg_temp'].isnull()]"
   ]
  },
  {
   "cell_type": "code",
   "execution_count": 231,
   "metadata": {},
   "outputs": [
    {
     "data": {
      "text/html": [
       "<div>\n",
       "<style scoped>\n",
       "    .dataframe tbody tr th:only-of-type {\n",
       "        vertical-align: middle;\n",
       "    }\n",
       "\n",
       "    .dataframe tbody tr th {\n",
       "        vertical-align: top;\n",
       "    }\n",
       "\n",
       "    .dataframe thead th {\n",
       "        text-align: right;\n",
       "    }\n",
       "</style>\n",
       "<table border=\"1\" class=\"dataframe\">\n",
       "  <thead>\n",
       "    <tr style=\"text-align: right;\">\n",
       "      <th></th>\n",
       "      <th>city</th>\n",
       "      <th>country</th>\n",
       "    </tr>\n",
       "  </thead>\n",
       "  <tbody>\n",
       "    <tr>\n",
       "      <td>0</td>\n",
       "      <td>Abidjan</td>\n",
       "      <td>Côte D'Ivoire</td>\n",
       "    </tr>\n",
       "    <tr>\n",
       "      <td>1</td>\n",
       "      <td>Abu Dhabi</td>\n",
       "      <td>United Arab Emirates</td>\n",
       "    </tr>\n",
       "    <tr>\n",
       "      <td>2</td>\n",
       "      <td>Abuja</td>\n",
       "      <td>Nigeria</td>\n",
       "    </tr>\n",
       "    <tr>\n",
       "      <td>3</td>\n",
       "      <td>Accra</td>\n",
       "      <td>Ghana</td>\n",
       "    </tr>\n",
       "    <tr>\n",
       "      <td>4</td>\n",
       "      <td>Adana</td>\n",
       "      <td>Turkey</td>\n",
       "    </tr>\n",
       "    <tr>\n",
       "      <td>5</td>\n",
       "      <td>Adelaide</td>\n",
       "      <td>Australia</td>\n",
       "    </tr>\n",
       "    <tr>\n",
       "      <td>6</td>\n",
       "      <td>Agra</td>\n",
       "      <td>India</td>\n",
       "    </tr>\n",
       "    <tr>\n",
       "      <td>7</td>\n",
       "      <td>Ahmadabad</td>\n",
       "      <td>India</td>\n",
       "    </tr>\n",
       "    <tr>\n",
       "      <td>8</td>\n",
       "      <td>Albuquerque</td>\n",
       "      <td>United States</td>\n",
       "    </tr>\n",
       "    <tr>\n",
       "      <td>9</td>\n",
       "      <td>Alexandria</td>\n",
       "      <td>Egypt</td>\n",
       "    </tr>\n",
       "  </tbody>\n",
       "</table>\n",
       "</div>"
      ],
      "text/plain": [
       "          city               country\n",
       "0      Abidjan         Côte D'Ivoire\n",
       "1    Abu Dhabi  United Arab Emirates\n",
       "2        Abuja               Nigeria\n",
       "3        Accra                 Ghana\n",
       "4        Adana                Turkey\n",
       "5     Adelaide             Australia\n",
       "6         Agra                 India\n",
       "7    Ahmadabad                 India\n",
       "8  Albuquerque         United States\n",
       "9   Alexandria                 Egypt"
      ]
     },
     "execution_count": 231,
     "metadata": {},
     "output_type": "execute_result"
    }
   ],
   "source": [
    "city_list.head(10)"
   ]
  },
  {
   "cell_type": "code",
   "execution_count": 232,
   "metadata": {},
   "outputs": [
    {
     "data": {
      "text/plain": [
       "(345, 2)"
      ]
     },
     "execution_count": 232,
     "metadata": {},
     "output_type": "execute_result"
    }
   ],
   "source": [
    "city_list.shape"
   ]
  },
  {
   "cell_type": "code",
   "execution_count": 233,
   "metadata": {},
   "outputs": [
    {
     "data": {
      "text/plain": [
       "city       0\n",
       "country    0\n",
       "dtype: int64"
      ]
     },
     "execution_count": 233,
     "metadata": {},
     "output_type": "execute_result"
    }
   ],
   "source": [
    "city_list.isnull().sum()"
   ]
  },
  {
   "cell_type": "code",
   "execution_count": 234,
   "metadata": {},
   "outputs": [
    {
     "data": {
      "text/html": [
       "<div>\n",
       "<style scoped>\n",
       "    .dataframe tbody tr th:only-of-type {\n",
       "        vertical-align: middle;\n",
       "    }\n",
       "\n",
       "    .dataframe tbody tr th {\n",
       "        vertical-align: top;\n",
       "    }\n",
       "\n",
       "    .dataframe thead th {\n",
       "        text-align: right;\n",
       "    }\n",
       "</style>\n",
       "<table border=\"1\" class=\"dataframe\">\n",
       "  <thead>\n",
       "    <tr style=\"text-align: right;\">\n",
       "      <th></th>\n",
       "      <th>year</th>\n",
       "      <th>avg_temp</th>\n",
       "    </tr>\n",
       "  </thead>\n",
       "  <tbody>\n",
       "    <tr>\n",
       "      <td>0</td>\n",
       "      <td>1750</td>\n",
       "      <td>8.72</td>\n",
       "    </tr>\n",
       "    <tr>\n",
       "      <td>1</td>\n",
       "      <td>1751</td>\n",
       "      <td>7.98</td>\n",
       "    </tr>\n",
       "    <tr>\n",
       "      <td>2</td>\n",
       "      <td>1752</td>\n",
       "      <td>5.78</td>\n",
       "    </tr>\n",
       "    <tr>\n",
       "      <td>3</td>\n",
       "      <td>1753</td>\n",
       "      <td>8.39</td>\n",
       "    </tr>\n",
       "    <tr>\n",
       "      <td>4</td>\n",
       "      <td>1754</td>\n",
       "      <td>8.47</td>\n",
       "    </tr>\n",
       "    <tr>\n",
       "      <td>5</td>\n",
       "      <td>1755</td>\n",
       "      <td>8.36</td>\n",
       "    </tr>\n",
       "    <tr>\n",
       "      <td>6</td>\n",
       "      <td>1756</td>\n",
       "      <td>8.85</td>\n",
       "    </tr>\n",
       "    <tr>\n",
       "      <td>7</td>\n",
       "      <td>1757</td>\n",
       "      <td>9.02</td>\n",
       "    </tr>\n",
       "    <tr>\n",
       "      <td>8</td>\n",
       "      <td>1758</td>\n",
       "      <td>6.74</td>\n",
       "    </tr>\n",
       "    <tr>\n",
       "      <td>9</td>\n",
       "      <td>1759</td>\n",
       "      <td>7.99</td>\n",
       "    </tr>\n",
       "  </tbody>\n",
       "</table>\n",
       "</div>"
      ],
      "text/plain": [
       "   year  avg_temp\n",
       "0  1750      8.72\n",
       "1  1751      7.98\n",
       "2  1752      5.78\n",
       "3  1753      8.39\n",
       "4  1754      8.47\n",
       "5  1755      8.36\n",
       "6  1756      8.85\n",
       "7  1757      9.02\n",
       "8  1758      6.74\n",
       "9  1759      7.99"
      ]
     },
     "execution_count": 234,
     "metadata": {},
     "output_type": "execute_result"
    }
   ],
   "source": [
    "global_temp.head(10)"
   ]
  },
  {
   "cell_type": "code",
   "execution_count": 235,
   "metadata": {},
   "outputs": [
    {
     "data": {
      "text/plain": [
       "(266, 2)"
      ]
     },
     "execution_count": 235,
     "metadata": {},
     "output_type": "execute_result"
    }
   ],
   "source": [
    "global_temp.shape"
   ]
  },
  {
   "cell_type": "code",
   "execution_count": 236,
   "metadata": {},
   "outputs": [
    {
     "data": {
      "text/html": [
       "<div>\n",
       "<style scoped>\n",
       "    .dataframe tbody tr th:only-of-type {\n",
       "        vertical-align: middle;\n",
       "    }\n",
       "\n",
       "    .dataframe tbody tr th {\n",
       "        vertical-align: top;\n",
       "    }\n",
       "\n",
       "    .dataframe thead th {\n",
       "        text-align: right;\n",
       "    }\n",
       "</style>\n",
       "<table border=\"1\" class=\"dataframe\">\n",
       "  <thead>\n",
       "    <tr style=\"text-align: right;\">\n",
       "      <th></th>\n",
       "      <th>year</th>\n",
       "      <th>avg_temp</th>\n",
       "    </tr>\n",
       "  </thead>\n",
       "  <tbody>\n",
       "    <tr>\n",
       "      <td>count</td>\n",
       "      <td>266.000000</td>\n",
       "      <td>266.000000</td>\n",
       "    </tr>\n",
       "    <tr>\n",
       "      <td>mean</td>\n",
       "      <td>1882.500000</td>\n",
       "      <td>8.369474</td>\n",
       "    </tr>\n",
       "    <tr>\n",
       "      <td>std</td>\n",
       "      <td>76.931788</td>\n",
       "      <td>0.584747</td>\n",
       "    </tr>\n",
       "    <tr>\n",
       "      <td>min</td>\n",
       "      <td>1750.000000</td>\n",
       "      <td>5.780000</td>\n",
       "    </tr>\n",
       "    <tr>\n",
       "      <td>25%</td>\n",
       "      <td>1816.250000</td>\n",
       "      <td>8.082500</td>\n",
       "    </tr>\n",
       "    <tr>\n",
       "      <td>50%</td>\n",
       "      <td>1882.500000</td>\n",
       "      <td>8.375000</td>\n",
       "    </tr>\n",
       "    <tr>\n",
       "      <td>75%</td>\n",
       "      <td>1948.750000</td>\n",
       "      <td>8.707500</td>\n",
       "    </tr>\n",
       "    <tr>\n",
       "      <td>max</td>\n",
       "      <td>2015.000000</td>\n",
       "      <td>9.830000</td>\n",
       "    </tr>\n",
       "  </tbody>\n",
       "</table>\n",
       "</div>"
      ],
      "text/plain": [
       "              year    avg_temp\n",
       "count   266.000000  266.000000\n",
       "mean   1882.500000    8.369474\n",
       "std      76.931788    0.584747\n",
       "min    1750.000000    5.780000\n",
       "25%    1816.250000    8.082500\n",
       "50%    1882.500000    8.375000\n",
       "75%    1948.750000    8.707500\n",
       "max    2015.000000    9.830000"
      ]
     },
     "execution_count": 236,
     "metadata": {},
     "output_type": "execute_result"
    }
   ],
   "source": [
    "global_temp.describe()"
   ]
  },
  {
   "cell_type": "code",
   "execution_count": 237,
   "metadata": {
    "scrolled": true
   },
   "outputs": [
    {
     "data": {
      "text/plain": [
       "year        0\n",
       "avg_temp    0\n",
       "dtype: int64"
      ]
     },
     "execution_count": 237,
     "metadata": {},
     "output_type": "execute_result"
    }
   ],
   "source": [
    "global_temp.isnull().sum()"
   ]
  },
  {
   "cell_type": "markdown",
   "metadata": {},
   "source": [
    "### Findings\n",
    "- city_temp contains the average temperatures from various cities from 1743 to 2013. There are some cities with missing temperatures\n",
    "- city_list contains a list of cities and its countries\n",
    "- global_temp contains the global average temperature from 1750 to 2015"
   ]
  },
  {
   "cell_type": "code",
   "execution_count": 238,
   "metadata": {},
   "outputs": [],
   "source": [
    "city_temp.dropna(inplace=True)"
   ]
  },
  {
   "cell_type": "markdown",
   "metadata": {},
   "source": [
    "- Dropping years with nulls average temperature"
   ]
  },
  {
   "cell_type": "code",
   "execution_count": 239,
   "metadata": {},
   "outputs": [
    {
     "data": {
      "text/plain": [
       "Belo Horizonte    175\n",
       "Curitiba          175\n",
       "Campinas          175\n",
       "Colombo           175\n",
       "Rio De Janeiro    175\n",
       "Porto Alegre      175\n",
       "Manaus            175\n",
       "Guarulhos         175\n",
       "Salvador          175\n",
       "Recife            168\n",
       "Fortaleza         139\n",
       "Name: city, dtype: int64"
      ]
     },
     "execution_count": 239,
     "metadata": {},
     "output_type": "execute_result"
    }
   ],
   "source": [
    "city_temp[city_temp['country'] == 'Brazil']['city'].value_counts()"
   ]
  },
  {
   "cell_type": "code",
   "execution_count": 242,
   "metadata": {},
   "outputs": [],
   "source": [
    "campinas_temp = city_temp[city_temp['city'] == 'Campinas'].drop(columns=['city', 'country'])"
   ]
  },
  {
   "cell_type": "code",
   "execution_count": 243,
   "metadata": {},
   "outputs": [
    {
     "data": {
      "text/html": [
       "<div>\n",
       "<style scoped>\n",
       "    .dataframe tbody tr th:only-of-type {\n",
       "        vertical-align: middle;\n",
       "    }\n",
       "\n",
       "    .dataframe tbody tr th {\n",
       "        vertical-align: top;\n",
       "    }\n",
       "\n",
       "    .dataframe thead th {\n",
       "        text-align: right;\n",
       "    }\n",
       "</style>\n",
       "<table border=\"1\" class=\"dataframe\">\n",
       "  <thead>\n",
       "    <tr style=\"text-align: right;\">\n",
       "      <th></th>\n",
       "      <th>year</th>\n",
       "      <th>avg_temp</th>\n",
       "    </tr>\n",
       "  </thead>\n",
       "  <tbody>\n",
       "    <tr>\n",
       "      <td>12973</td>\n",
       "      <td>1832</td>\n",
       "      <td>18.94</td>\n",
       "    </tr>\n",
       "    <tr>\n",
       "      <td>12974</td>\n",
       "      <td>1833</td>\n",
       "      <td>19.93</td>\n",
       "    </tr>\n",
       "    <tr>\n",
       "      <td>12975</td>\n",
       "      <td>1834</td>\n",
       "      <td>19.21</td>\n",
       "    </tr>\n",
       "    <tr>\n",
       "      <td>12976</td>\n",
       "      <td>1835</td>\n",
       "      <td>18.62</td>\n",
       "    </tr>\n",
       "    <tr>\n",
       "      <td>12977</td>\n",
       "      <td>1836</td>\n",
       "      <td>18.84</td>\n",
       "    </tr>\n",
       "    <tr>\n",
       "      <td>...</td>\n",
       "      <td>...</td>\n",
       "      <td>...</td>\n",
       "    </tr>\n",
       "    <tr>\n",
       "      <td>13150</td>\n",
       "      <td>2009</td>\n",
       "      <td>20.78</td>\n",
       "    </tr>\n",
       "    <tr>\n",
       "      <td>13151</td>\n",
       "      <td>2010</td>\n",
       "      <td>20.72</td>\n",
       "    </tr>\n",
       "    <tr>\n",
       "      <td>13152</td>\n",
       "      <td>2011</td>\n",
       "      <td>20.33</td>\n",
       "    </tr>\n",
       "    <tr>\n",
       "      <td>13153</td>\n",
       "      <td>2012</td>\n",
       "      <td>21.02</td>\n",
       "    </tr>\n",
       "    <tr>\n",
       "      <td>13154</td>\n",
       "      <td>2013</td>\n",
       "      <td>20.07</td>\n",
       "    </tr>\n",
       "  </tbody>\n",
       "</table>\n",
       "<p>175 rows × 2 columns</p>\n",
       "</div>"
      ],
      "text/plain": [
       "       year  avg_temp\n",
       "12973  1832     18.94\n",
       "12974  1833     19.93\n",
       "12975  1834     19.21\n",
       "12976  1835     18.62\n",
       "12977  1836     18.84\n",
       "...     ...       ...\n",
       "13150  2009     20.78\n",
       "13151  2010     20.72\n",
       "13152  2011     20.33\n",
       "13153  2012     21.02\n",
       "13154  2013     20.07\n",
       "\n",
       "[175 rows x 2 columns]"
      ]
     },
     "execution_count": 243,
     "metadata": {},
     "output_type": "execute_result"
    }
   ],
   "source": [
    "campinas_temp"
   ]
  },
  {
   "cell_type": "code",
   "execution_count": 244,
   "metadata": {},
   "outputs": [],
   "source": [
    "campinas_temp['MA'] = campinas_temp.iloc[:,1].rolling(window=7).mean()"
   ]
  },
  {
   "cell_type": "code",
   "execution_count": 245,
   "metadata": {},
   "outputs": [
    {
     "data": {
      "text/html": [
       "<div>\n",
       "<style scoped>\n",
       "    .dataframe tbody tr th:only-of-type {\n",
       "        vertical-align: middle;\n",
       "    }\n",
       "\n",
       "    .dataframe tbody tr th {\n",
       "        vertical-align: top;\n",
       "    }\n",
       "\n",
       "    .dataframe thead th {\n",
       "        text-align: right;\n",
       "    }\n",
       "</style>\n",
       "<table border=\"1\" class=\"dataframe\">\n",
       "  <thead>\n",
       "    <tr style=\"text-align: right;\">\n",
       "      <th></th>\n",
       "      <th>year</th>\n",
       "      <th>avg_temp</th>\n",
       "      <th>MA</th>\n",
       "    </tr>\n",
       "  </thead>\n",
       "  <tbody>\n",
       "    <tr>\n",
       "      <td>count</td>\n",
       "      <td>175.000000</td>\n",
       "      <td>175.000000</td>\n",
       "      <td>169.000000</td>\n",
       "    </tr>\n",
       "    <tr>\n",
       "      <td>mean</td>\n",
       "      <td>1925.520000</td>\n",
       "      <td>19.700057</td>\n",
       "      <td>19.695554</td>\n",
       "    </tr>\n",
       "    <tr>\n",
       "      <td>std</td>\n",
       "      <td>51.463617</td>\n",
       "      <td>0.593897</td>\n",
       "      <td>0.446563</td>\n",
       "    </tr>\n",
       "    <tr>\n",
       "      <td>min</td>\n",
       "      <td>1832.000000</td>\n",
       "      <td>18.280000</td>\n",
       "      <td>18.724286</td>\n",
       "    </tr>\n",
       "    <tr>\n",
       "      <td>25%</td>\n",
       "      <td>1882.500000</td>\n",
       "      <td>19.245000</td>\n",
       "      <td>19.397143</td>\n",
       "    </tr>\n",
       "    <tr>\n",
       "      <td>50%</td>\n",
       "      <td>1926.000000</td>\n",
       "      <td>19.700000</td>\n",
       "      <td>19.627143</td>\n",
       "    </tr>\n",
       "    <tr>\n",
       "      <td>75%</td>\n",
       "      <td>1969.500000</td>\n",
       "      <td>20.090000</td>\n",
       "      <td>19.941429</td>\n",
       "    </tr>\n",
       "    <tr>\n",
       "      <td>max</td>\n",
       "      <td>2013.000000</td>\n",
       "      <td>21.300000</td>\n",
       "      <td>20.768571</td>\n",
       "    </tr>\n",
       "  </tbody>\n",
       "</table>\n",
       "</div>"
      ],
      "text/plain": [
       "              year    avg_temp          MA\n",
       "count   175.000000  175.000000  169.000000\n",
       "mean   1925.520000   19.700057   19.695554\n",
       "std      51.463617    0.593897    0.446563\n",
       "min    1832.000000   18.280000   18.724286\n",
       "25%    1882.500000   19.245000   19.397143\n",
       "50%    1926.000000   19.700000   19.627143\n",
       "75%    1969.500000   20.090000   19.941429\n",
       "max    2013.000000   21.300000   20.768571"
      ]
     },
     "execution_count": 245,
     "metadata": {},
     "output_type": "execute_result"
    }
   ],
   "source": [
    "campinas_temp.describe()"
   ]
  },
  {
   "cell_type": "code",
   "execution_count": 246,
   "metadata": {},
   "outputs": [],
   "source": [
    "global_temp['MA'] = global_temp.iloc[:,1].rolling(window=7).mean()"
   ]
  },
  {
   "cell_type": "code",
   "execution_count": 300,
   "metadata": {},
   "outputs": [
    {
     "data": {
      "text/plain": [
       "[<matplotlib.lines.Line2D at 0x2159846b448>]"
      ]
     },
     "execution_count": 300,
     "metadata": {},
     "output_type": "execute_result"
    },
    {
     "data": {
      "image/png": "[encoded data removed]",
      "text/plain": [
       "<Figure size 864x504 with 1 Axes>"
      ]
     },
     "metadata": {
      "needs_background": "light"
     },
     "output_type": "display_data"
    }
   ],
   "source": [
    "fig = plt.figure(figsize=(12,7))\n",
    "\n",
    "plt.plot(global_temp['year'], global_temp['MA'], c='blue', label='Rolling Global Temperature')\n",
    "plt.plot(global_temp['year'], global_temp['avg_temp'], c='gray',linewidth=1, alpha=0.5, label='Average Global Temperature')\n",
    "\n",
    "plt.title('Global Average Temperature Over the Years')\n",
    "plt.xlabel('Year')\n",
    "plt.ylabel('Temperature')\n",
    "plt.legend(loc='upper left')\n",
    "plt.gca().spines['top'].set_visible(False)\n",
    "plt.gca().spines['right'].set_visible(False)\n",
    "\n",
    "z = np.polyfit(global_temp['year'],global_temp['avg_temp'], 1)\n",
    "p = np.poly1d(z)\n",
    "plt.plot(global_temp['year'], p(global_temp['year']) ,\"r--\", linewidth=1)"
   ]
  },
  {
   "cell_type": "code",
   "execution_count": 305,
   "metadata": {},
   "outputs": [
    {
     "data": {
      "image/png": "[encoded data removed]",
      "text/plain": [
       "<Figure size 1080x576 with 1 Axes>"
      ]
     },
     "metadata": {
      "needs_background": "light"
     },
     "output_type": "display_data"
    }
   ],
   "source": [
    "fig = plt.figure(figsize=(15,8))\n",
    "\n",
    "global_camp = global_temp[(global_temp['year'] >= 1832) & (global_temp['year'] <= 2013)]\n",
    "\n",
    "plt.plot(global_camp['year'], global_camp['MA'], c='blue', label='Rolling Global Temperature')\n",
    "plt.plot(campinas_temp['year'], campinas_temp['MA'], c='green', label='Campinas Temperature')\n",
    "\n",
    "z = np.polyfit(global_camp['year'],global_camp['avg_temp'], 1)\n",
    "p = np.poly1d(z)\n",
    "plt.plot(global_camp['year'], p(global_camp['year']) ,\"r--\", linewidth=1, label='Global Trend Temperature')\n",
    "\n",
    "z2 = np.polyfit(campinas_temp['year'],campinas_temp['avg_temp'], 1)\n",
    "p2 = np.poly1d(z2)\n",
    "plt.plot(campinas_temp['year'], p2(campinas_temp['year']) ,\"r--\", linewidth=1, label='Campinas Trend Temperature')\n",
    "\n",
    "plt.title('Global Temperature vs Campinas-BR Temperatures')\n",
    "plt.xlabel('Year')\n",
    "plt.ylabel('Moving Average Temperatures')\n",
    "plt.legend(loc='center right')\n",
    "plt.gca().spines['top'].set_visible(False)\n",
    "plt.gca().spines['right'].set_visible(False)\n",
    "\n"
   ]
  },
  {
   "cell_type": "markdown",
   "metadata": {},
   "source": [
    "- Campinas has been approx. 10 degrees hotter than the Global Average Temperature, on average\n",
    "- Campinas average temperature has been consistent with the global average temperature over time\n",
    "- Both Campinas and the Global Temperature are increasing over the years\n"
   ]
  },
  {
   "cell_type": "code",
   "execution_count": 248,
   "metadata": {},
   "outputs": [],
   "source": [
    "df_corr = global_temp.merge(campinas_temp, on='year', suffixes=['_global', '_campinas'])"
   ]
  },
  {
   "cell_type": "code",
   "execution_count": 249,
   "metadata": {
    "scrolled": true
   },
   "outputs": [
    {
     "data": {
      "text/html": [
       "<div>\n",
       "<style scoped>\n",
       "    .dataframe tbody tr th:only-of-type {\n",
       "        vertical-align: middle;\n",
       "    }\n",
       "\n",
       "    .dataframe tbody tr th {\n",
       "        vertical-align: top;\n",
       "    }\n",
       "\n",
       "    .dataframe thead th {\n",
       "        text-align: right;\n",
       "    }\n",
       "</style>\n",
       "<table border=\"1\" class=\"dataframe\">\n",
       "  <thead>\n",
       "    <tr style=\"text-align: right;\">\n",
       "      <th></th>\n",
       "      <th>year</th>\n",
       "      <th>avg_temp_global</th>\n",
       "      <th>MA_global</th>\n",
       "      <th>avg_temp_campinas</th>\n",
       "      <th>MA_campinas</th>\n",
       "    </tr>\n",
       "  </thead>\n",
       "  <tbody>\n",
       "    <tr>\n",
       "      <td>year</td>\n",
       "      <td>1.000000</td>\n",
       "      <td>0.878030</td>\n",
       "      <td>0.926507</td>\n",
       "      <td>0.704092</td>\n",
       "      <td>0.908633</td>\n",
       "    </tr>\n",
       "    <tr>\n",
       "      <td>avg_temp_global</td>\n",
       "      <td>0.878030</td>\n",
       "      <td>1.000000</td>\n",
       "      <td>0.929231</td>\n",
       "      <td>0.794454</td>\n",
       "      <td>0.902881</td>\n",
       "    </tr>\n",
       "    <tr>\n",
       "      <td>MA_global</td>\n",
       "      <td>0.926507</td>\n",
       "      <td>0.929231</td>\n",
       "      <td>1.000000</td>\n",
       "      <td>0.730874</td>\n",
       "      <td>0.960178</td>\n",
       "    </tr>\n",
       "    <tr>\n",
       "      <td>avg_temp_campinas</td>\n",
       "      <td>0.704092</td>\n",
       "      <td>0.794454</td>\n",
       "      <td>0.730874</td>\n",
       "      <td>1.000000</td>\n",
       "      <td>0.740857</td>\n",
       "    </tr>\n",
       "    <tr>\n",
       "      <td>MA_campinas</td>\n",
       "      <td>0.908633</td>\n",
       "      <td>0.902881</td>\n",
       "      <td>0.960178</td>\n",
       "      <td>0.740857</td>\n",
       "      <td>1.000000</td>\n",
       "    </tr>\n",
       "  </tbody>\n",
       "</table>\n",
       "</div>"
      ],
      "text/plain": [
       "                       year  avg_temp_global  MA_global  avg_temp_campinas  \\\n",
       "year               1.000000         0.878030   0.926507           0.704092   \n",
       "avg_temp_global    0.878030         1.000000   0.929231           0.794454   \n",
       "MA_global          0.926507         0.929231   1.000000           0.730874   \n",
       "avg_temp_campinas  0.704092         0.794454   0.730874           1.000000   \n",
       "MA_campinas        0.908633         0.902881   0.960178           0.740857   \n",
       "\n",
       "                   MA_campinas  \n",
       "year                  0.908633  \n",
       "avg_temp_global       0.902881  \n",
       "MA_global             0.960178  \n",
       "avg_temp_campinas     0.740857  \n",
       "MA_campinas           1.000000  "
      ]
     },
     "execution_count": 249,
     "metadata": {},
     "output_type": "execute_result"
    }
   ],
   "source": [
    "df_corr.corr(method='pearson')"
   ]
  },
  {
   "cell_type": "markdown",
   "metadata": {},
   "source": [
    "- The correlation between Average Global Temperature and Campina's Average temperature is 0.795, meaning there's a sightly correlation between both variables\n"
   ]
  },
  {
   "cell_type": "code",
   "execution_count": 250,
   "metadata": {},
   "outputs": [
    {
     "data": {
      "text/html": [
       "<div>\n",
       "<style scoped>\n",
       "    .dataframe tbody tr th:only-of-type {\n",
       "        vertical-align: middle;\n",
       "    }\n",
       "\n",
       "    .dataframe tbody tr th {\n",
       "        vertical-align: top;\n",
       "    }\n",
       "\n",
       "    .dataframe thead th {\n",
       "        text-align: right;\n",
       "    }\n",
       "</style>\n",
       "<table border=\"1\" class=\"dataframe\">\n",
       "  <thead>\n",
       "    <tr style=\"text-align: right;\">\n",
       "      <th></th>\n",
       "      <th>year</th>\n",
       "      <th>avg_temp_global</th>\n",
       "      <th>MA_global</th>\n",
       "      <th>avg_temp_campinas</th>\n",
       "      <th>MA_campinas</th>\n",
       "    </tr>\n",
       "  </thead>\n",
       "  <tbody>\n",
       "    <tr>\n",
       "      <td>0</td>\n",
       "      <td>1832</td>\n",
       "      <td>7.45</td>\n",
       "      <td>8.127143</td>\n",
       "      <td>18.94</td>\n",
       "      <td>NaN</td>\n",
       "    </tr>\n",
       "    <tr>\n",
       "      <td>1</td>\n",
       "      <td>1833</td>\n",
       "      <td>8.01</td>\n",
       "      <td>8.077143</td>\n",
       "      <td>19.93</td>\n",
       "      <td>NaN</td>\n",
       "    </tr>\n",
       "    <tr>\n",
       "      <td>2</td>\n",
       "      <td>1834</td>\n",
       "      <td>8.15</td>\n",
       "      <td>7.982857</td>\n",
       "      <td>19.21</td>\n",
       "      <td>NaN</td>\n",
       "    </tr>\n",
       "    <tr>\n",
       "      <td>3</td>\n",
       "      <td>1835</td>\n",
       "      <td>7.39</td>\n",
       "      <td>7.871429</td>\n",
       "      <td>18.62</td>\n",
       "      <td>NaN</td>\n",
       "    </tr>\n",
       "    <tr>\n",
       "      <td>4</td>\n",
       "      <td>1836</td>\n",
       "      <td>7.70</td>\n",
       "      <td>7.837143</td>\n",
       "      <td>18.84</td>\n",
       "      <td>NaN</td>\n",
       "    </tr>\n",
       "    <tr>\n",
       "      <td>...</td>\n",
       "      <td>...</td>\n",
       "      <td>...</td>\n",
       "      <td>...</td>\n",
       "      <td>...</td>\n",
       "      <td>...</td>\n",
       "    </tr>\n",
       "    <tr>\n",
       "      <td>170</td>\n",
       "      <td>2009</td>\n",
       "      <td>9.51</td>\n",
       "      <td>9.535714</td>\n",
       "      <td>20.78</td>\n",
       "      <td>20.588571</td>\n",
       "    </tr>\n",
       "    <tr>\n",
       "      <td>171</td>\n",
       "      <td>2010</td>\n",
       "      <td>9.70</td>\n",
       "      <td>9.560000</td>\n",
       "      <td>20.72</td>\n",
       "      <td>20.582857</td>\n",
       "    </tr>\n",
       "    <tr>\n",
       "      <td>172</td>\n",
       "      <td>2011</td>\n",
       "      <td>9.52</td>\n",
       "      <td>9.588571</td>\n",
       "      <td>20.33</td>\n",
       "      <td>20.622857</td>\n",
       "    </tr>\n",
       "    <tr>\n",
       "      <td>173</td>\n",
       "      <td>2012</td>\n",
       "      <td>9.51</td>\n",
       "      <td>9.561429</td>\n",
       "      <td>21.02</td>\n",
       "      <td>20.657143</td>\n",
       "    </tr>\n",
       "    <tr>\n",
       "      <td>174</td>\n",
       "      <td>2013</td>\n",
       "      <td>9.61</td>\n",
       "      <td>9.572857</td>\n",
       "      <td>20.07</td>\n",
       "      <td>20.581429</td>\n",
       "    </tr>\n",
       "  </tbody>\n",
       "</table>\n",
       "<p>175 rows × 5 columns</p>\n",
       "</div>"
      ],
      "text/plain": [
       "     year  avg_temp_global  MA_global  avg_temp_campinas  MA_campinas\n",
       "0    1832             7.45   8.127143              18.94          NaN\n",
       "1    1833             8.01   8.077143              19.93          NaN\n",
       "2    1834             8.15   7.982857              19.21          NaN\n",
       "3    1835             7.39   7.871429              18.62          NaN\n",
       "4    1836             7.70   7.837143              18.84          NaN\n",
       "..    ...              ...        ...                ...          ...\n",
       "170  2009             9.51   9.535714              20.78    20.588571\n",
       "171  2010             9.70   9.560000              20.72    20.582857\n",
       "172  2011             9.52   9.588571              20.33    20.622857\n",
       "173  2012             9.51   9.561429              21.02    20.657143\n",
       "174  2013             9.61   9.572857              20.07    20.581429\n",
       "\n",
       "[175 rows x 5 columns]"
      ]
     },
     "execution_count": 250,
     "metadata": {},
     "output_type": "execute_result"
    }
   ],
   "source": [
    "df_corr"
   ]
  },
  {
   "cell_type": "markdown",
   "metadata": {},
   "source": [
    "# Estimate Campinas Temperature with Average Global Temperatures"
   ]
  },
  {
   "cell_type": "code",
   "execution_count": 251,
   "metadata": {},
   "outputs": [],
   "source": [
    "df_corr['estimate_campinas'] = df_corr['avg_temp_global'] + 11\n",
    "df_corr['MA_estimate_campinas'] = df_corr.iloc[:,5].rolling(window=7).mean()"
   ]
  },
  {
   "cell_type": "code",
   "execution_count": 252,
   "metadata": {},
   "outputs": [
    {
     "data": {
      "text/html": [
       "<div>\n",
       "<style scoped>\n",
       "    .dataframe tbody tr th:only-of-type {\n",
       "        vertical-align: middle;\n",
       "    }\n",
       "\n",
       "    .dataframe tbody tr th {\n",
       "        vertical-align: top;\n",
       "    }\n",
       "\n",
       "    .dataframe thead th {\n",
       "        text-align: right;\n",
       "    }\n",
       "</style>\n",
       "<table border=\"1\" class=\"dataframe\">\n",
       "  <thead>\n",
       "    <tr style=\"text-align: right;\">\n",
       "      <th></th>\n",
       "      <th>year</th>\n",
       "      <th>avg_temp_global</th>\n",
       "      <th>MA_global</th>\n",
       "      <th>avg_temp_campinas</th>\n",
       "      <th>MA_campinas</th>\n",
       "      <th>estimate_campinas</th>\n",
       "      <th>MA_estimate_campinas</th>\n",
       "    </tr>\n",
       "  </thead>\n",
       "  <tbody>\n",
       "    <tr>\n",
       "      <td>0</td>\n",
       "      <td>1832</td>\n",
       "      <td>7.45</td>\n",
       "      <td>8.127143</td>\n",
       "      <td>18.94</td>\n",
       "      <td>NaN</td>\n",
       "      <td>18.45</td>\n",
       "      <td>NaN</td>\n",
       "    </tr>\n",
       "    <tr>\n",
       "      <td>1</td>\n",
       "      <td>1833</td>\n",
       "      <td>8.01</td>\n",
       "      <td>8.077143</td>\n",
       "      <td>19.93</td>\n",
       "      <td>NaN</td>\n",
       "      <td>19.01</td>\n",
       "      <td>NaN</td>\n",
       "    </tr>\n",
       "    <tr>\n",
       "      <td>2</td>\n",
       "      <td>1834</td>\n",
       "      <td>8.15</td>\n",
       "      <td>7.982857</td>\n",
       "      <td>19.21</td>\n",
       "      <td>NaN</td>\n",
       "      <td>19.15</td>\n",
       "      <td>NaN</td>\n",
       "    </tr>\n",
       "    <tr>\n",
       "      <td>3</td>\n",
       "      <td>1835</td>\n",
       "      <td>7.39</td>\n",
       "      <td>7.871429</td>\n",
       "      <td>18.62</td>\n",
       "      <td>NaN</td>\n",
       "      <td>18.39</td>\n",
       "      <td>NaN</td>\n",
       "    </tr>\n",
       "    <tr>\n",
       "      <td>4</td>\n",
       "      <td>1836</td>\n",
       "      <td>7.70</td>\n",
       "      <td>7.837143</td>\n",
       "      <td>18.84</td>\n",
       "      <td>NaN</td>\n",
       "      <td>18.70</td>\n",
       "      <td>NaN</td>\n",
       "    </tr>\n",
       "    <tr>\n",
       "      <td>...</td>\n",
       "      <td>...</td>\n",
       "      <td>...</td>\n",
       "      <td>...</td>\n",
       "      <td>...</td>\n",
       "      <td>...</td>\n",
       "      <td>...</td>\n",
       "      <td>...</td>\n",
       "    </tr>\n",
       "    <tr>\n",
       "      <td>170</td>\n",
       "      <td>2009</td>\n",
       "      <td>9.51</td>\n",
       "      <td>9.535714</td>\n",
       "      <td>20.78</td>\n",
       "      <td>20.588571</td>\n",
       "      <td>20.51</td>\n",
       "      <td>20.535714</td>\n",
       "    </tr>\n",
       "    <tr>\n",
       "      <td>171</td>\n",
       "      <td>2010</td>\n",
       "      <td>9.70</td>\n",
       "      <td>9.560000</td>\n",
       "      <td>20.72</td>\n",
       "      <td>20.582857</td>\n",
       "      <td>20.70</td>\n",
       "      <td>20.560000</td>\n",
       "    </tr>\n",
       "    <tr>\n",
       "      <td>172</td>\n",
       "      <td>2011</td>\n",
       "      <td>9.52</td>\n",
       "      <td>9.588571</td>\n",
       "      <td>20.33</td>\n",
       "      <td>20.622857</td>\n",
       "      <td>20.52</td>\n",
       "      <td>20.588571</td>\n",
       "    </tr>\n",
       "    <tr>\n",
       "      <td>173</td>\n",
       "      <td>2012</td>\n",
       "      <td>9.51</td>\n",
       "      <td>9.561429</td>\n",
       "      <td>21.02</td>\n",
       "      <td>20.657143</td>\n",
       "      <td>20.51</td>\n",
       "      <td>20.561429</td>\n",
       "    </tr>\n",
       "    <tr>\n",
       "      <td>174</td>\n",
       "      <td>2013</td>\n",
       "      <td>9.61</td>\n",
       "      <td>9.572857</td>\n",
       "      <td>20.07</td>\n",
       "      <td>20.581429</td>\n",
       "      <td>20.61</td>\n",
       "      <td>20.572857</td>\n",
       "    </tr>\n",
       "  </tbody>\n",
       "</table>\n",
       "<p>175 rows × 7 columns</p>\n",
       "</div>"
      ],
      "text/plain": [
       "     year  avg_temp_global  MA_global  avg_temp_campinas  MA_campinas  \\\n",
       "0    1832             7.45   8.127143              18.94          NaN   \n",
       "1    1833             8.01   8.077143              19.93          NaN   \n",
       "2    1834             8.15   7.982857              19.21          NaN   \n",
       "3    1835             7.39   7.871429              18.62          NaN   \n",
       "4    1836             7.70   7.837143              18.84          NaN   \n",
       "..    ...              ...        ...                ...          ...   \n",
       "170  2009             9.51   9.535714              20.78    20.588571   \n",
       "171  2010             9.70   9.560000              20.72    20.582857   \n",
       "172  2011             9.52   9.588571              20.33    20.622857   \n",
       "173  2012             9.51   9.561429              21.02    20.657143   \n",
       "174  2013             9.61   9.572857              20.07    20.581429   \n",
       "\n",
       "     estimate_campinas  MA_estimate_campinas  \n",
       "0                18.45                   NaN  \n",
       "1                19.01                   NaN  \n",
       "2                19.15                   NaN  \n",
       "3                18.39                   NaN  \n",
       "4                18.70                   NaN  \n",
       "..                 ...                   ...  \n",
       "170              20.51             20.535714  \n",
       "171              20.70             20.560000  \n",
       "172              20.52             20.588571  \n",
       "173              20.51             20.561429  \n",
       "174              20.61             20.572857  \n",
       "\n",
       "[175 rows x 7 columns]"
      ]
     },
     "execution_count": 252,
     "metadata": {},
     "output_type": "execute_result"
    }
   ],
   "source": [
    "df_corr"
   ]
  },
  {
   "cell_type": "code",
   "execution_count": 291,
   "metadata": {},
   "outputs": [
    {
     "data": {
      "image/png": "[encoded data removed]",
      "text/plain": [
       "<Figure size 1080x504 with 1 Axes>"
      ]
     },
     "metadata": {
      "needs_background": "light"
     },
     "output_type": "display_data"
    }
   ],
   "source": [
    "fig = plt.figure(figsize=(15,7))\n",
    "plt.plot(df_corr['year'], df_corr['MA_global'], c='blue', label='Global Temperature')\n",
    "plt.plot(df_corr['year'], df_corr['MA_estimate_campinas'], c='green', label='Estimated Campinas Temperature')\n",
    "plt.plot(df_corr['year'], df_corr['MA_campinas'], c='purple', label='Campinas Temperature')\n",
    "plt.title('Global Temperature vs Campinas-BR Temperatures')\n",
    "plt.xlabel('Year')\n",
    "plt.ylabel('Moving Average Temperatures')\n",
    "plt.legend(loc='upper left')\n",
    "plt.gca().spines['top'].set_visible(False)\n",
    "plt.gca().spines['right'].set_visible(False)"
   ]
  },
  {
   "cell_type": "code",
   "execution_count": 254,
   "metadata": {},
   "outputs": [
    {
     "data": {
      "text/html": [
       "<div>\n",
       "<style scoped>\n",
       "    .dataframe tbody tr th:only-of-type {\n",
       "        vertical-align: middle;\n",
       "    }\n",
       "\n",
       "    .dataframe tbody tr th {\n",
       "        vertical-align: top;\n",
       "    }\n",
       "\n",
       "    .dataframe thead th {\n",
       "        text-align: right;\n",
       "    }\n",
       "</style>\n",
       "<table border=\"1\" class=\"dataframe\">\n",
       "  <thead>\n",
       "    <tr style=\"text-align: right;\">\n",
       "      <th></th>\n",
       "      <th>year</th>\n",
       "      <th>avg_temp_global</th>\n",
       "      <th>MA_global</th>\n",
       "      <th>avg_temp_campinas</th>\n",
       "      <th>MA_campinas</th>\n",
       "      <th>estimate_campinas</th>\n",
       "      <th>MA_estimate_campinas</th>\n",
       "    </tr>\n",
       "  </thead>\n",
       "  <tbody>\n",
       "    <tr>\n",
       "      <td>year</td>\n",
       "      <td>1.000000</td>\n",
       "      <td>0.878030</td>\n",
       "      <td>0.926507</td>\n",
       "      <td>0.704092</td>\n",
       "      <td>0.908633</td>\n",
       "      <td>0.878030</td>\n",
       "      <td>0.929864</td>\n",
       "    </tr>\n",
       "    <tr>\n",
       "      <td>avg_temp_global</td>\n",
       "      <td>0.878030</td>\n",
       "      <td>1.000000</td>\n",
       "      <td>0.929231</td>\n",
       "      <td>0.794454</td>\n",
       "      <td>0.902881</td>\n",
       "      <td>1.000000</td>\n",
       "      <td>0.930734</td>\n",
       "    </tr>\n",
       "    <tr>\n",
       "      <td>MA_global</td>\n",
       "      <td>0.926507</td>\n",
       "      <td>0.929231</td>\n",
       "      <td>1.000000</td>\n",
       "      <td>0.730874</td>\n",
       "      <td>0.960178</td>\n",
       "      <td>0.929231</td>\n",
       "      <td>0.998751</td>\n",
       "    </tr>\n",
       "    <tr>\n",
       "      <td>avg_temp_campinas</td>\n",
       "      <td>0.704092</td>\n",
       "      <td>0.794454</td>\n",
       "      <td>0.730874</td>\n",
       "      <td>1.000000</td>\n",
       "      <td>0.740857</td>\n",
       "      <td>0.794454</td>\n",
       "      <td>0.715506</td>\n",
       "    </tr>\n",
       "    <tr>\n",
       "      <td>MA_campinas</td>\n",
       "      <td>0.908633</td>\n",
       "      <td>0.902881</td>\n",
       "      <td>0.960178</td>\n",
       "      <td>0.740857</td>\n",
       "      <td>1.000000</td>\n",
       "      <td>0.902881</td>\n",
       "      <td>0.961302</td>\n",
       "    </tr>\n",
       "    <tr>\n",
       "      <td>estimate_campinas</td>\n",
       "      <td>0.878030</td>\n",
       "      <td>1.000000</td>\n",
       "      <td>0.929231</td>\n",
       "      <td>0.794454</td>\n",
       "      <td>0.902881</td>\n",
       "      <td>1.000000</td>\n",
       "      <td>0.930734</td>\n",
       "    </tr>\n",
       "    <tr>\n",
       "      <td>MA_estimate_campinas</td>\n",
       "      <td>0.929864</td>\n",
       "      <td>0.930734</td>\n",
       "      <td>0.998751</td>\n",
       "      <td>0.715506</td>\n",
       "      <td>0.961302</td>\n",
       "      <td>0.930734</td>\n",
       "      <td>1.000000</td>\n",
       "    </tr>\n",
       "  </tbody>\n",
       "</table>\n",
       "</div>"
      ],
      "text/plain": [
       "                          year  avg_temp_global  MA_global  avg_temp_campinas  \\\n",
       "year                  1.000000         0.878030   0.926507           0.704092   \n",
       "avg_temp_global       0.878030         1.000000   0.929231           0.794454   \n",
       "MA_global             0.926507         0.929231   1.000000           0.730874   \n",
       "avg_temp_campinas     0.704092         0.794454   0.730874           1.000000   \n",
       "MA_campinas           0.908633         0.902881   0.960178           0.740857   \n",
       "estimate_campinas     0.878030         1.000000   0.929231           0.794454   \n",
       "MA_estimate_campinas  0.929864         0.930734   0.998751           0.715506   \n",
       "\n",
       "                      MA_campinas  estimate_campinas  MA_estimate_campinas  \n",
       "year                     0.908633           0.878030              0.929864  \n",
       "avg_temp_global          0.902881           1.000000              0.930734  \n",
       "MA_global                0.960178           0.929231              0.998751  \n",
       "avg_temp_campinas        0.740857           0.794454              0.715506  \n",
       "MA_campinas              1.000000           0.902881              0.961302  \n",
       "estimate_campinas        0.902881           1.000000              0.930734  \n",
       "MA_estimate_campinas     0.961302           0.930734              1.000000  "
      ]
     },
     "execution_count": 254,
     "metadata": {},
     "output_type": "execute_result"
    }
   ],
   "source": [
    "df_corr.corr(method='pearson')"
   ]
  },
  {
   "cell_type": "markdown",
   "metadata": {},
   "source": [
    "- We can estimate Campinas Average Temperature by adding 11 degrees in Global Average Temperature, providing a correlation of 0.795 with the average temperature value"
   ]
  },
  {
   "cell_type": "markdown",
   "metadata": {},
   "source": [
    "# Plot average temperature vs global temperature for various cities"
   ]
  },
  {
   "cell_type": "code",
   "execution_count": 310,
   "metadata": {},
   "outputs": [],
   "source": [
    "def compare_city(city_name):\n",
    "    if city_name in city_list['city'].tolist():\n",
    "        fig = plt.figure(figsize=(15,8))\n",
    "\n",
    "        df_city = city_temp[city_temp['city'] == city_name]\n",
    "        df_city['MA'] = city_temp.iloc[:,3].rolling(window=7).mean()\n",
    "\n",
    "        df_global = global_temp[(global_temp['year'] >= df_city['year'].min()) & (global_temp['year'] <= df_city['year'].max())]\n",
    "\n",
    "        plt.plot(df_global['year'], df_global['MA'], c='blue', label='Rolling Global Temperature')\n",
    "        plt.plot(df_city['year'], df_city['MA'], c='green', label= city_name +' Temperature')\n",
    "        plt.title('Global Temperature vs {}-{} Temperatures'.format(city_name, city_list[city_list['city'] == city_name]['country'].to_string(index=False)))\n",
    "        plt.xlabel('Year')\n",
    "        plt.ylabel('Moving Average Temperatures')\n",
    "        plt.legend(loc='upper right')\n",
    "    else:\n",
    "        print('Invalid city name')"
   ]
  },
  {
   "cell_type": "code",
   "execution_count": 311,
   "metadata": {},
   "outputs": [
    {
     "name": "stderr",
     "output_type": "stream",
     "text": [
      "C:\\Users\\camil\\Anaconda3\\lib\\site-packages\\ipykernel_launcher.py:6: SettingWithCopyWarning: \n",
      "A value is trying to be set on a copy of a slice from a DataFrame.\n",
      "Try using .loc[row_indexer,col_indexer] = value instead\n",
      "\n",
      "See the caveats in the documentation: http://pandas.pydata.org/pandas-docs/stable/user_guide/indexing.html#returning-a-view-versus-a-copy\n",
      "  \n"
     ]
    },
    {
     "data": {
      "image/png": "[encoded data removed]",
      "text/plain": [
       "<Figure size 1080x576 with 1 Axes>"
      ]
     },
     "metadata": {
      "needs_background": "light"
     },
     "output_type": "display_data"
    }
   ],
   "source": [
    "compare_city('New York')"
   ]
  },
  {
   "cell_type": "code",
   "execution_count": null,
   "metadata": {},
   "outputs": [],
   "source": []
  }
 ],
 "metadata": {
  "kernelspec": {
   "display_name": "Python 3",
   "language": "python",
   "name": "python3"
  },
  "language_info": {
   "codemirror_mode": {
    "name": "ipython",
    "version": 3
   },
   "file_extension": ".py",
   "mimetype": "text/x-python",
   "name": "python",
   "nbconvert_exporter": "python",
   "pygments_lexer": "ipython3",
   "version": "3.7.4"
  }
 },
 "nbformat": 4,
 "nbformat_minor": 2
}
